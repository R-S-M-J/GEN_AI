{
 "cells": [
  {
   "cell_type": "code",
   "execution_count": 1,
   "id": "9d808c14-5ec1-4ea2-ae04-e637d9bfd8a0",
   "metadata": {},
   "outputs": [],
   "source": [
    "import pandas as pd\n",
    "import numpy as np"
   ]
  },
  {
   "cell_type": "code",
   "execution_count": 2,
   "id": "ccc0e82a-e0d1-462a-a8fb-a62731cd4646",
   "metadata": {},
   "outputs": [
    {
     "data": {
      "text/html": [
       "<div>\n",
       "<style scoped>\n",
       "    .dataframe tbody tr th:only-of-type {\n",
       "        vertical-align: middle;\n",
       "    }\n",
       "\n",
       "    .dataframe tbody tr th {\n",
       "        vertical-align: top;\n",
       "    }\n",
       "\n",
       "    .dataframe thead th {\n",
       "        text-align: right;\n",
       "    }\n",
       "</style>\n",
       "<table border=\"1\" class=\"dataframe\">\n",
       "  <thead>\n",
       "    <tr style=\"text-align: right;\">\n",
       "      <th></th>\n",
       "      <th>SrNo</th>\n",
       "      <th>Patient_Id</th>\n",
       "      <th>DOB</th>\n",
       "      <th>Fever</th>\n",
       "      <th>Cough</th>\n",
       "      <th>Cold</th>\n",
       "    </tr>\n",
       "  </thead>\n",
       "  <tbody>\n",
       "    <tr>\n",
       "      <th>0</th>\n",
       "      <td>1</td>\n",
       "      <td>COVID1</td>\n",
       "      <td>1985-05-11</td>\n",
       "      <td>High</td>\n",
       "      <td>Low</td>\n",
       "      <td>High</td>\n",
       "    </tr>\n",
       "    <tr>\n",
       "      <th>1</th>\n",
       "      <td>2</td>\n",
       "      <td>COVID2</td>\n",
       "      <td>2047-05-12</td>\n",
       "      <td>Mid</td>\n",
       "      <td>Low</td>\n",
       "      <td>Mid</td>\n",
       "    </tr>\n",
       "    <tr>\n",
       "      <th>2</th>\n",
       "      <td>3</td>\n",
       "      <td>COVID3</td>\n",
       "      <td>1999-05-13</td>\n",
       "      <td>Low</td>\n",
       "      <td>Mid</td>\n",
       "      <td>Low</td>\n",
       "    </tr>\n",
       "    <tr>\n",
       "      <th>3</th>\n",
       "      <td>4</td>\n",
       "      <td>COVID4</td>\n",
       "      <td>1985-05-14</td>\n",
       "      <td>High</td>\n",
       "      <td>High</td>\n",
       "      <td>Low</td>\n",
       "    </tr>\n",
       "    <tr>\n",
       "      <th>4</th>\n",
       "      <td>5</td>\n",
       "      <td>COVID5</td>\n",
       "      <td>1984-05-15</td>\n",
       "      <td>Mid</td>\n",
       "      <td>Mid</td>\n",
       "      <td>High</td>\n",
       "    </tr>\n",
       "    <tr>\n",
       "      <th>5</th>\n",
       "      <td>6</td>\n",
       "      <td>COVID6</td>\n",
       "      <td>2001-05-16</td>\n",
       "      <td>High</td>\n",
       "      <td>Low</td>\n",
       "      <td>Low</td>\n",
       "    </tr>\n",
       "    <tr>\n",
       "      <th>6</th>\n",
       "      <td>7</td>\n",
       "      <td>COVID7</td>\n",
       "      <td>2007-05-17</td>\n",
       "      <td>Mid</td>\n",
       "      <td>Low</td>\n",
       "      <td>Mid</td>\n",
       "    </tr>\n",
       "    <tr>\n",
       "      <th>7</th>\n",
       "      <td>8</td>\n",
       "      <td>COVID8</td>\n",
       "      <td>1981-05-18</td>\n",
       "      <td>Low</td>\n",
       "      <td>Mid</td>\n",
       "      <td>High</td>\n",
       "    </tr>\n",
       "    <tr>\n",
       "      <th>8</th>\n",
       "      <td>9</td>\n",
       "      <td>COVID9</td>\n",
       "      <td>1995-05-19</td>\n",
       "      <td>Mid</td>\n",
       "      <td>High</td>\n",
       "      <td>High</td>\n",
       "    </tr>\n",
       "  </tbody>\n",
       "</table>\n",
       "</div>"
      ],
      "text/plain": [
       "   SrNo Patient_Id        DOB Fever Cough  Cold\n",
       "0     1     COVID1 1985-05-11  High   Low  High\n",
       "1     2     COVID2 2047-05-12   Mid   Low   Mid\n",
       "2     3     COVID3 1999-05-13   Low   Mid   Low\n",
       "3     4     COVID4 1985-05-14  High  High   Low\n",
       "4     5     COVID5 1984-05-15   Mid   Mid  High\n",
       "5     6     COVID6 2001-05-16  High   Low   Low\n",
       "6     7     COVID7 2007-05-17   Mid   Low   Mid\n",
       "7     8     COVID8 1981-05-18   Low   Mid  High\n",
       "8     9     COVID9 1995-05-19   Mid  High  High"
      ]
     },
     "execution_count": 2,
     "metadata": {},
     "output_type": "execute_result"
    }
   ],
   "source": [
    "data = pd.read_csv('./dataset.csv')\n",
    "data['DOB'] = pd.to_datetime(data['DOB'], format='%d-%m-%y', errors='coerce')\n",
    "data = data[:-1]\n",
    "data = data.iloc[:, :-1]\n",
    "data"
   ]
  },
  {
   "attachments": {},
   "cell_type": "markdown",
   "id": "ac600629-1f5d-4ee5-847d-aedefd0e78cc",
   "metadata": {},
   "source": [
    "## STEP 1:\n",
    "1. Read dataset\n",
    "2. Create parser to make Dataset Dictionary for Symptoms values"
   ]
  },
  {
   "cell_type": "code",
   "execution_count": 3,
   "id": "770c10a3-3882-45d2-bcca-ee4db557f727",
   "metadata": {},
   "outputs": [],
   "source": [
    "symptom_columns = ['Fever', 'Cough', 'Cold'] "
   ]
  },
  {
   "cell_type": "code",
   "execution_count": 4,
   "id": "5858ff6d-34d0-4f96-978c-cde238b835ed",
   "metadata": {},
   "outputs": [],
   "source": [
    "unique_symptoms = {}\n",
    "for column in symptom_columns:\n",
    "    unique_values = data[column].unique()  \n",
    "    unique_symptoms[column] = sorted(unique_values.tolist()) "
   ]
  },
  {
   "cell_type": "code",
   "execution_count": 5,
   "id": "7304e9fa-d5fd-4cff-9db5-d069457091d1",
   "metadata": {},
   "outputs": [
    {
     "data": {
      "text/plain": [
       "{'Fever': ['High', 'Low', 'Mid'],\n",
       " 'Cough': ['High', 'Low', 'Mid'],\n",
       " 'Cold': ['High', 'Low', 'Mid']}"
      ]
     },
     "execution_count": 5,
     "metadata": {},
     "output_type": "execute_result"
    }
   ],
   "source": [
    "unique_symptoms"
   ]
  },
  {
   "cell_type": "code",
   "execution_count": null,
   "id": "ea119b35-328b-4344-89c3-00f7d8f4ed0d",
   "metadata": {},
   "outputs": [],
   "source": []
  },
  {
   "attachments": {},
   "cell_type": "markdown",
   "id": "7fe2ccbe-ff8d-46b0-bd5b-bcfae861a023",
   "metadata": {},
   "source": [
    "## STEP 2:\n",
    "1. Create a Program that uses the Parser \n",
    "2. Read the DataSet and Create a Dictionary and store it in memory for reference\n",
    "3. Print the Loss i.e. Dictionary colums those were not found \n",
    "4. Read the DataSet and enhance the Dictionary for the new data found in other Symptoms"
   ]
  }
 ],
 "metadata": {
  "kernelspec": {
   "display_name": "Python 3 (ipykernel)",
   "language": "python",
   "name": "python3"
  },
  "language_info": {
   "codemirror_mode": {
    "name": "ipython",
    "version": 3
   },
   "file_extension": ".py",
   "mimetype": "text/x-python",
   "name": "python",
   "nbconvert_exporter": "python",
   "pygments_lexer": "ipython3",
   "version": "3.12.4"
  }
 },
 "nbformat": 4,
 "nbformat_minor": 5
}
